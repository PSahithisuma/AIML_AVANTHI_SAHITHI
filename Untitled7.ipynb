{
  "nbformat": 4,
  "nbformat_minor": 0,
  "metadata": {
    "colab": {
      "provenance": [],
      "authorship_tag": "ABX9TyNj6TBjlzQXpV88KWFF9rgN",
      "include_colab_link": true
    },
    "kernelspec": {
      "name": "python3",
      "display_name": "Python 3"
    },
    "language_info": {
      "name": "python"
    }
  },
  "cells": [
    {
      "cell_type": "markdown",
      "metadata": {
        "id": "view-in-github",
        "colab_type": "text"
      },
      "source": [
        "<a href=\"https://colab.research.google.com/github/PSahithisuma/AIML_AVANTHI_SAHITHI/blob/main/Untitled7.ipynb\" target=\"_parent\"><img src=\"https://colab.research.google.com/assets/colab-badge.svg\" alt=\"Open In Colab\"/></a>"
      ]
    },
    {
      "cell_type": "code",
      "execution_count": 9,
      "metadata": {
        "colab": {
          "base_uri": "https://localhost:8080/"
        },
        "id": "2q8_Gf5o_L0X",
        "outputId": "fe7b1a16-5c25-4eb4-c6f2-4c8fbb82c6b9"
      },
      "outputs": [
        {
          "output_type": "stream",
          "name": "stdout",
          "text": [
            "sum of x is: 9\n"
          ]
        }
      ],
      "source": [
        "x=[1,2,3,4,5,6]\n",
        "sum=0\n",
        "for i in x[1:4:1]:\n",
        "  sum=sum+i\n",
        "\n",
        "\n",
        "print(\"sum of x is:\",sum)"
      ]
    },
    {
      "cell_type": "code",
      "source": [
        "list = [\"Apple\", \"Banana\", \"Ant\", \"Art\", \"Cat\"]\n",
        "list.sort()\n",
        "list.remove(\"Ant\")\n",
        "list.remove(\"Banana\")\n",
        "list.remove(\"Cat\")\n",
        "print(list)"
      ],
      "metadata": {
        "colab": {
          "base_uri": "https://localhost:8080/"
        },
        "id": "oHj2mOxmB901",
        "outputId": "5e745d09-b90c-4110-95fb-c2de75d72cf2"
      },
      "execution_count": 13,
      "outputs": [
        {
          "output_type": "stream",
          "name": "stdout",
          "text": [
            "['Apple', 'Art']\n"
          ]
        }
      ]
    },
    {
      "cell_type": "code",
      "source": [
        "a=[1,2,3]\n",
        "b=[4,5,6]\n",
        "sum_list=[]\n",
        "for i in range(len(a)):\n",
        "  sum_list.append(a[i]+b[i])\n",
        "\n",
        "\n",
        "print(sum_list)"
      ],
      "metadata": {
        "colab": {
          "base_uri": "https://localhost:8080/"
        },
        "id": "Q_DzYntN_738",
        "outputId": "5cc631c7-7179-4ee2-e3a6-b2ae62808873"
      },
      "execution_count": 8,
      "outputs": [
        {
          "output_type": "stream",
          "name": "stdout",
          "text": [
            "[5, 7, 9]\n"
          ]
        }
      ]
    },
    {
      "cell_type": "code",
      "source": [
        "result=[]\n",
        "for i in range(2000,3201):\n",
        "  if i%7==0 and i%5!=0:\n",
        "    result . append(str(i))\n",
        "\n",
        "print(\",\".join(result))"
      ],
      "metadata": {
        "colab": {
          "base_uri": "https://localhost:8080/"
        },
        "id": "D6lsraTPA9di",
        "outputId": "6918aae5-d434-4ec2-e095-d51ca2b8dba5"
      },
      "execution_count": 12,
      "outputs": [
        {
          "output_type": "stream",
          "name": "stdout",
          "text": [
            "2002,2009,2016,2023,2037,2044,2051,2058,2072,2079,2086,2093,2107,2114,2121,2128,2142,2149,2156,2163,2177,2184,2191,2198,2212,2219,2226,2233,2247,2254,2261,2268,2282,2289,2296,2303,2317,2324,2331,2338,2352,2359,2366,2373,2387,2394,2401,2408,2422,2429,2436,2443,2457,2464,2471,2478,2492,2499,2506,2513,2527,2534,2541,2548,2562,2569,2576,2583,2597,2604,2611,2618,2632,2639,2646,2653,2667,2674,2681,2688,2702,2709,2716,2723,2737,2744,2751,2758,2772,2779,2786,2793,2807,2814,2821,2828,2842,2849,2856,2863,2877,2884,2891,2898,2912,2919,2926,2933,2947,2954,2961,2968,2982,2989,2996,3003,3017,3024,3031,3038,3052,3059,3066,3073,3087,3094,3101,3108,3122,3129,3136,3143,3157,3164,3171,3178,3192,3199\n"
          ]
        }
      ]
    },
    {
      "cell_type": "code",
      "source": [
        "n=int(input(\"Enter the numbers\"))\n",
        "d=dict()\n",
        "for i in range(1,n+1):\n",
        "  d[i]=i*i\n",
        "print(d)"
      ],
      "metadata": {
        "colab": {
          "base_uri": "https://localhost:8080/"
        },
        "id": "YQcfDMLVCkds",
        "outputId": "a306822d-dcab-4543-f41f-bf4c2f91755c"
      },
      "execution_count": 17,
      "outputs": [
        {
          "output_type": "stream",
          "name": "stdout",
          "text": [
            "Enter the numbers8\n",
            "{1: 1, 2: 4, 3: 9, 4: 16, 5: 25, 6: 36, 7: 49, 8: 64}\n"
          ]
        }
      ]
    },
    {
      "cell_type": "code",
      "source": [
        "import numpy as np\n",
        "arr1 = np.array([1, 2, 3])\n",
        "arr2 = np.array([4, 5, 6])\n",
        "np.add(arr1,arr2)"
      ],
      "metadata": {
        "colab": {
          "base_uri": "https://localhost:8080/"
        },
        "id": "kMz6T1ooFM9w",
        "outputId": "063992cf-5bab-447c-c758-aa1b579b5031"
      },
      "execution_count": 61,
      "outputs": [
        {
          "output_type": "execute_result",
          "data": {
            "text/plain": [
              "array([5, 7, 9])"
            ]
          },
          "metadata": {},
          "execution_count": 61
        }
      ]
    },
    {
      "cell_type": "code",
      "source": [
        "import numpy as np\n",
        "arr= np.array([[1,2,3,4,5],\n",
        "             [4,2,7,8],\n",
        "             [6,2,9,1,0]])\n",
        "\n",
        "print(\"Given Array :\")\n",
        "print(arr)\n",
        "res_arr = arr[[0,2]]\n",
        "print(\"\\nAccessed Rows :\")\n",
        "print(res_arr)\n",
        ""
      ],
      "metadata": {
        "colab": {
          "base_uri": "https://localhost:8080/"
        },
        "id": "yN52R0D4H8tu",
        "outputId": "56d4ffc7-e8d9-4267-d32e-05f6ee655a93"
      },
      "execution_count": 75,
      "outputs": [
        {
          "output_type": "stream",
          "name": "stdout",
          "text": [
            "Given Array :\n",
            "[list([1, 2, 3, 4, 5]) list([4, 2, 7, 8]) list([6, 2, 9, 1, 0])]\n",
            "\n",
            "Accessed Rows :\n",
            "[list([1, 2, 3, 4, 5]) list([6, 2, 9, 1, 0])]\n"
          ]
        },
        {
          "output_type": "stream",
          "name": "stderr",
          "text": [
            "<ipython-input-75-257fa65416d8>:2: VisibleDeprecationWarning: Creating an ndarray from ragged nested sequences (which is a list-or-tuple of lists-or-tuples-or ndarrays with different lengths or shapes) is deprecated. If you meant to do this, you must specify 'dtype=object' when creating the ndarray.\n",
            "  arr= np.array([[1,2,3,4,5],\n"
          ]
        }
      ]
    },
    {
      "cell_type": "code",
      "source": [
        "arr1= np.array([1,2,3,4,5,6,7,8,9,10])\n",
        "arr2 = arr.reshape(5, 2)\n",
        "print(arr2)\n",
        "\n",
        "\n"
      ],
      "metadata": {
        "colab": {
          "base_uri": "https://localhost:8080/"
        },
        "id": "pq1UNIWsQUqo",
        "outputId": "032afe57-b87c-4ce9-c2e2-d0e825b1114b"
      },
      "execution_count": 88,
      "outputs": [
        {
          "output_type": "stream",
          "name": "stdout",
          "text": [
            "[[ 1  2]\n",
            " [ 3  4]\n",
            " [ 5  6]\n",
            " [ 7  8]\n",
            " [ 9 10]]\n"
          ]
        }
      ]
    },
    {
      "cell_type": "code",
      "source": [
        "arr= np.array([1,2,3,4,5,6,7,8])\n",
        "print(arr)\n",
        "# first n elements of numpy array\n",
        "arr[:3]\n"
      ],
      "metadata": {
        "colab": {
          "base_uri": "https://localhost:8080/"
        },
        "id": "pa6HJ0N5R8An",
        "outputId": "023f8fc1-3591-4137-b70e-1a134238a832"
      },
      "execution_count": 96,
      "outputs": [
        {
          "output_type": "stream",
          "name": "stdout",
          "text": [
            "[1 2 3 4 5 6 7 8]\n"
          ]
        },
        {
          "output_type": "execute_result",
          "data": {
            "text/plain": [
              "array([1, 2, 3])"
            ]
          },
          "metadata": {},
          "execution_count": 96
        }
      ]
    },
    {
      "cell_type": "code",
      "source": [
        "import numpy as np\n",
        "# Creating two arrays of different dimensions\n",
        "arr1 = np.array([[21, 27], [2, 4], [31, 38]])\n",
        "arr2 = np.array([[12, 43], [11, 12]])\n",
        "\n",
        "# Printing original arrays\n",
        "print(\"arr1 is:\\n\", arr1)\n",
        "print(\"arr2 is:\\n\", arr2)\n",
        "\n",
        "# Computing the dot product\n",
        "dotProduct = np.dot(arr1, arr2)\n",
        "\n",
        "# Printing the result\n",
        "print(\"\\nDot product of arr1 and arr2 is:\\n\")\n",
        "print(dotProduct)"
      ],
      "metadata": {
        "colab": {
          "base_uri": "https://localhost:8080/"
        },
        "id": "UopLK64cU6-4",
        "outputId": "63086ce1-da33-4f4d-d590-49b9d61443e4"
      },
      "execution_count": 104,
      "outputs": [
        {
          "output_type": "stream",
          "name": "stdout",
          "text": [
            "arr1 is:\n",
            " [[21 27]\n",
            " [ 2  4]\n",
            " [31 38]]\n",
            "arr2 is:\n",
            " [[12 43]\n",
            " [11 12]]\n",
            "\n",
            "Dot product of arr1 and arr2 is:\n",
            "\n",
            "[[ 549 1227]\n",
            " [  68  134]\n",
            " [ 790 1789]]\n"
          ]
        }
      ]
    },
    {
      "cell_type": "code",
      "source": [
        "import numpy as np\n",
        "array = np.arange(10)\n",
        "print(array)\n",
        "\n",
        "r1 = np.mean(array)\n",
        "print(\"\\nMean: \", r1)\n",
        "\n",
        "r2 = np.std(array)\n",
        "print(\"\\nstd: \", r2)\n",
        "\n",
        "r3 = np.var(array)\n",
        "print(\"\\nvariance: \", r3)"
      ],
      "metadata": {
        "colab": {
          "base_uri": "https://localhost:8080/"
        },
        "id": "1YCr8HGOVm5L",
        "outputId": "96437585-853c-43eb-d24f-fb41f0c08d25"
      },
      "execution_count": 106,
      "outputs": [
        {
          "output_type": "stream",
          "name": "stdout",
          "text": [
            "[0 1 2 3 4 5 6 7 8 9]\n",
            "\n",
            "Mean:  4.5\n",
            "\n",
            "std:  2.8722813232690143\n",
            "\n",
            "variance:  8.25\n"
          ]
        }
      ]
    },
    {
      "cell_type": "code",
      "source": [
        "arr = np.array([ 2, 3, 4])\n",
        "arr1 = np.array([5, 6, 7])\n",
        "arr2 = np.hstack((arr,arr1))\n",
        "\n",
        "np.hstack((arr,arr1))\n",
        "\n"
      ],
      "metadata": {
        "colab": {
          "base_uri": "https://localhost:8080/"
        },
        "id": "OEvzxa9IXq3z",
        "outputId": "4466ee35-eb10-45a8-da29-aad3803e2f68"
      },
      "execution_count": 118,
      "outputs": [
        {
          "output_type": "execute_result",
          "data": {
            "text/plain": [
              "array([2, 3, 4, 5, 6, 7])"
            ]
          },
          "metadata": {},
          "execution_count": 118
        }
      ]
    },
    {
      "cell_type": "code",
      "source": [],
      "metadata": {
        "id": "mRXWEIyRYQdE"
      },
      "execution_count": null,
      "outputs": []
    },
    {
      "cell_type": "code",
      "source": [
        "from google.colab import drive\n",
        "drive.mount('/content/drive')"
      ],
      "metadata": {
        "id": "NFxk_wCpYgj7"
      },
      "execution_count": null,
      "outputs": []
    },
    {
      "cell_type": "markdown",
      "source": [
        "# New Section"
      ],
      "metadata": {
        "id": "aJn5iHVKYnn8"
      }
    }
  ]
}