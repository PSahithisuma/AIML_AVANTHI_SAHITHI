{
  "nbformat": 4,
  "nbformat_minor": 0,
  "metadata": {
    "colab": {
      "provenance": [],
      "toc_visible": true,
      "authorship_tag": "ABX9TyPQ4bqNZsAxTmniqaN7hgDQ",
      "include_colab_link": true
    },
    "kernelspec": {
      "name": "python3",
      "display_name": "Python 3"
    },
    "language_info": {
      "name": "python"
    }
  },
  "cells": [
    {
      "cell_type": "markdown",
      "metadata": {
        "id": "view-in-github",
        "colab_type": "text"
      },
      "source": [
        "<a href=\"https://colab.research.google.com/github/PSahithisuma/AIML_AVANTHI_SAHITHI/blob/main/Untitled6.ipynb\" target=\"_parent\"><img src=\"https://colab.research.google.com/assets/colab-badge.svg\" alt=\"Open In Colab\"/></a>"
      ]
    },
    {
      "cell_type": "code",
      "execution_count": 36,
      "metadata": {
        "colab": {
          "base_uri": "https://localhost:8080/"
        },
        "id": "u3TEgGuTEhab",
        "outputId": "f649dbfb-4a14-4164-cf95-256f44fdbd8f"
      },
      "outputs": [
        {
          "output_type": "stream",
          "name": "stdout",
          "text": [
            "18\n"
          ]
        }
      ],
      "source": [
        "x = [1,2,3,4,5,6]\n",
        "sum =  0+2+4\n",
        "for i in x:\n",
        "  if i%2 == 0:\n",
        "    sum += i\n",
        "print(sum)\n"
      ]
    },
    {
      "cell_type": "code",
      "source": [
        "list = [\"Apple\", \"Banana\", \"Ant\", \"Art\", \"Cat\"]\n",
        "list.sort()\n",
        "list.remove(\"Ant\")\n",
        "list.remove(\"Banana\")\n",
        "list.remove(\"Cat\")\n",
        "print(list)\n",
        ""
      ],
      "metadata": {
        "colab": {
          "base_uri": "https://localhost:8080/"
        },
        "id": "oup-nu6gMGdv",
        "outputId": "0def12bc-56e6-49ea-9ef8-d33bf033710e"
      },
      "execution_count": 129,
      "outputs": [
        {
          "output_type": "stream",
          "name": "stdout",
          "text": [
            "['Apple', 'Art']\n"
          ]
        }
      ]
    }
  ]
}